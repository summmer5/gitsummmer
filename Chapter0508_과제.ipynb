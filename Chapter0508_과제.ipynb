{
 "cells": [
  {
   "cell_type": "markdown",
   "metadata": {
    "id": "WXEwMsfUct7U"
   },
   "source": [
    "안녕하세요.<br><br>\n",
    "수강생 여러분~! Chapter05 ~ 08 수업은 잘 들으셨나요?\n",
    "\n",
    "Chapter05 ~ 08의 수업 내용을 바탕으로 아래 문제를 풀어주시면 됩니다.\n",
    "\n",
    "<br>\n",
    "\n",
    "\n",
    "[**답변 입력 방법**]\n",
    "\n",
    "문제 아래에 있는 코드 입력창에 정답코드를 작성하신 후  __▷ 버튼을 클릭해 코드를 실행__ 해보세요<br>"
   ]
  },
  {
   "cell_type": "markdown",
   "metadata": {
    "id": "qoyC9wF-3hvs"
   },
   "source": [
    "-----"
   ]
  },
  {
   "cell_type": "markdown",
   "metadata": {},
   "source": [
    "## 모험가들의 레벨업 도전\n",
    "\n",
    "### [배경 이야기]\n",
    "\n",
    "당신은 마법사, 전사, 도적, 힐러 네 명의 모험가를 이끄는 리더입니다. \n",
    "\n",
    "각 캐릭터는 힘, 민첩, 지능, 체력이라는 능력치를 가지고 있습니다. 이 능력치들을 이용해 다양한 도전을 해결하고 사냥을 통해 경험치를 얻어 레벨업을 해야 합니다.\n",
    "\n",
    "<br>\n",
    "\n",
    "### [동료 캐릭터와 능력치 정보]\n",
    "\n",
    "마법사: 힘(10), 민첩(20), 지능(80), 체력(50)\n",
    "\n",
    "전사: 힘(80), 민첩(30), 지능(20), 체력(100)\n",
    "\n",
    "도적: 힘(40), 민첩(80), 지능(30), 체력(60)\n",
    "\n",
    "힐러: 힘(20), 민첩(40), 지능(70), 체력(70)\n",
    "\n",
    "<br>\n",
    "\n",
    "* 변수명을 영어로 변경해서 풀어보세요 !"
   ]
  },
  {
   "cell_type": "markdown",
   "metadata": {},
   "source": [
    "<br>\n",
    "\n",
    "__[문제 1: 첫 번째 사냥]__\n",
    "\n",
    "마법사는 몬스터를 사냥하기 위해 마법을 사용합니다. \n",
    "\n",
    "마법을 사용하려면 지능이 50 이상이어야 합니다. \n",
    "\n",
    "마법사의 지능이 50 이상인지 확인하세요."
   ]
  },
  {
   "cell_type": "code",
   "execution_count": null,
   "metadata": {},
   "outputs": [
    {
     "data": {
      "text/plain": [
       "(True, False, False, True)"
      ]
     },
     "execution_count": 5,
     "metadata": {},
     "output_type": "execute_result"
    }
   ],
   "source": [
    "#지능의 변수 b = 지능\n",
    "wizard_b, warrior_b, thief_b, healer_b = 80, 20, 30, 70\n",
    "\n",
    "# 마법사, 전사, 도적, 힐러 순\n",
    "wizard_b >= 50, warrior_b >= 50, thief_b >= 50, healer_b >= 50"
   ]
  },
  {
   "cell_type": "markdown",
   "metadata": {},
   "source": [
    "<br>\n",
    "\n",
    "__[문제 2: 두 번째 사냥]__\n",
    "\n",
    "전사는 강력한 공격을 하기 위해 자신의 힘을 사용합니다. \n",
    "\n",
    "전사의 힘이 60 이상이고 체력이 80 이상인지 확인하세요."
   ]
  },
  {
   "cell_type": "code",
   "execution_count": null,
   "metadata": {},
   "outputs": [
    {
     "data": {
      "text/plain": [
       "(False, True, False, False)"
      ]
     },
     "execution_count": 9,
     "metadata": {},
     "output_type": "execute_result"
    }
   ],
   "source": [
    "# p = 힘\n",
    "wizard_p, warrior_p, thief_p, healer_p = 10, 80, 40, 20\n",
    "\n",
    "# e = 체력\n",
    "wizard_e, warrior_e, thief_e, healer_e = 50, 100, 60, 70\n",
    "\n",
    "# 마법사, 전사, 도적, 힐러 순\n",
    "(wizard_p >=60 and wizard_e >= 80), (warrior_p >=60 and warrior_e >= 80), (thief_p >=60 and thief_e >= 80), (healer_p >=60 and healer_e >= 80)\n"
   ]
  },
  {
   "cell_type": "markdown",
   "metadata": {},
   "source": [
    "<br>\n",
    "\n",
    "__[문제 3: 세 번째 사냥]__\n",
    "\n",
    "도적은 민첩함을 이용해 몬스터를 회피하고 공격합니다. \n",
    "\n",
    "도적의 민첩이 70 이상이거나 힘이 50 이상인지 확인하세요."
   ]
  },
  {
   "cell_type": "code",
   "execution_count": 12,
   "metadata": {},
   "outputs": [
    {
     "data": {
      "text/plain": [
       "(False, True, True, False)"
      ]
     },
     "execution_count": 12,
     "metadata": {},
     "output_type": "execute_result"
    }
   ],
   "source": [
    "# s = 민첩\n",
    "wizard_s, warrior_s, thief_s, healer_s = 20, 30, 80, 40\n",
    "\n",
    "# p = 힘\n",
    "wizard_p, warrior_p, thief_p, healer_p = 10, 80, 40, 20\n",
    "\n",
    "# 마법사, 전사, 도적, 힐러 순\n",
    "(wizard_s >= 70 or wizard_p >= 50), (warrior_s >= 70 or warrior_p >= 50), (thief_s >= 70 or thief_p >= 50), (healer_s >= 70 or healer_p >= 50)"
   ]
  },
  {
   "cell_type": "markdown",
   "metadata": {},
   "source": [
    "<br>\n",
    "\n",
    "__[문제 4: 네 번째 사냥]__\n",
    "\n",
    "힐러는 파티의 체력을 회복시키기 위해 마법을 사용합니다. \n",
    "\n",
    "힐러의 지능이 60 이상이고, 체력이 50 이상인지 확인하세요."
   ]
  },
  {
   "cell_type": "code",
   "execution_count": null,
   "metadata": {},
   "outputs": [],
   "source": [
    "#지능의 변수 b = 지능\n",
    "wizard_b, warrior_b, thief_b, healer_b = 80, 20, 30, 70\n",
    "\n",
    "# e = 체력\n",
    "wizard_e, warrior_e, thief_e, healer_e = 50, 100, 60, 70\n",
    "\n",
    "# 마법사, 전사, 도적, 힐러 순\n",
    "(wizard_s >= 20 and wizard_p >= 10), (warrior_s >= 30 and warrior_p >= 80), (thief_s >= 80 and thief_p >= 40), (healer_s >=40 and healer_p >= 20)\n"
   ]
  },
  {
   "cell_type": "markdown",
   "metadata": {},
   "source": [
    "<br>\n",
    "\n",
    "__[문제 5: 레벨업]__\n",
    "\n",
    "모든 캐릭터가 사냥을 성공적으로 마쳤습니다. 이제 경험치를 얻어 레벨업을 해야 합니다. \n",
    "\n",
    "\n",
    "각 캐릭터의 경험치가 100 이상인지 print()를 이용해 확인해주세요.\n",
    "\n",
    "<br>\n",
    "\n",
    "경험치는 아래와 같습니다.\n",
    "\n",
    "마법사: 120\n",
    "\n",
    "전사: 150\n",
    "\n",
    "도적: 110\n",
    "\n",
    "힐러: 90\n",
    "\n"
   ]
  },
  {
   "cell_type": "code",
   "execution_count": 15,
   "metadata": {},
   "outputs": [
    {
     "name": "stdout",
     "output_type": "stream",
     "text": [
      "True\n",
      "True\n",
      "True\n",
      "False\n"
     ]
    },
    {
     "data": {
      "text/plain": [
       "(None, None, None, None)"
      ]
     },
     "execution_count": 15,
     "metadata": {},
     "output_type": "execute_result"
    }
   ],
   "source": [
    "print(120 >= 100), print(150 >= 100), print(110 >= 100), print(90 >= 100)"
   ]
  }
 ],
 "metadata": {
  "colab": {
   "authorship_tag": "ABX9TyP7YKA5FdtGggYfD74V7SMJ",
   "provenance": []
  },
  "kernelspec": {
   "display_name": "Python 3",
   "name": "python3"
  },
  "language_info": {
   "codemirror_mode": {
    "name": "ipython",
    "version": 3
   },
   "file_extension": ".py",
   "mimetype": "text/x-python",
   "name": "python",
   "nbconvert_exporter": "python",
   "pygments_lexer": "ipython3",
   "version": "3.9.6"
  }
 },
 "nbformat": 4,
 "nbformat_minor": 0
}
